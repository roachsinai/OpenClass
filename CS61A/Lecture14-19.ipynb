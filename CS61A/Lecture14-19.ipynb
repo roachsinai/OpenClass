{
 "cells": [
  {
   "cell_type": "markdown",
   "metadata": {},
   "source": [
    "\n",
    "## Lecture14--0225\n",
    "\n",
    "#### Object-Oriented Programming"
   ]
  },
  {
   "cell_type": "code",
   "execution_count": 1,
   "metadata": {
    "collapsed": true
   },
   "outputs": [],
   "source": [
    "# class attribute\n",
    "class Account:\n",
    "    interest = 0.2\n",
    "    def __init__(self):\n",
    "        self.interest = 0.08"
   ]
  },
  {
   "cell_type": "code",
   "execution_count": 2,
   "metadata": {
    "collapsed": false
   },
   "outputs": [
    {
     "data": {
      "text/plain": [
       "0.08"
      ]
     },
     "execution_count": 2,
     "metadata": {},
     "output_type": "execute_result"
    }
   ],
   "source": [
    "ja = Account()\n",
    "ja.interest"
   ]
  },
  {
   "cell_type": "code",
   "execution_count": 3,
   "metadata": {
    "collapsed": false
   },
   "outputs": [
    {
     "data": {
      "text/plain": [
       "0.2"
      ]
     },
     "execution_count": 3,
     "metadata": {},
     "output_type": "execute_result"
    }
   ],
   "source": [
    "Account.interest"
   ]
  },
  {
   "cell_type": "markdown",
   "metadata": {},
   "source": [
    "## Lecture15--0227\n",
    "\n",
    "#### 继承"
   ]
  },
  {
   "cell_type": "markdown",
   "metadata": {},
   "source": [
    "## Lecture16--0302\n",
    "\n",
    "#### String representation\n",
    "\n",
    "+ *str* for human\n",
    "+ *repr* for *Python* interpter"
   ]
  },
  {
   "cell_type": "code",
   "execution_count": 4,
   "metadata": {
    "collapsed": false
   },
   "outputs": [
    {
     "name": "stdout",
     "output_type": "stream",
     "text": [
      "Help on built-in function repr in module builtins:\n",
      "\n",
      "repr(obj, /)\n",
      "    Return the canonical string representation of the object.\n",
      "    \n",
      "    For many object types, including most builtins, eval(repr(obj)) == obj.\n",
      "\n"
     ]
    }
   ],
   "source": [
    "help(repr)"
   ]
  },
  {
   "cell_type": "code",
   "execution_count": 5,
   "metadata": {
    "collapsed": false
   },
   "outputs": [
    {
     "data": {
      "text/plain": [
       "'12000000000000.0'"
      ]
     },
     "execution_count": 5,
     "metadata": {},
     "output_type": "execute_result"
    }
   ],
   "source": [
    "repr(12e12)"
   ]
  },
  {
   "cell_type": "code",
   "execution_count": 6,
   "metadata": {
    "collapsed": false
   },
   "outputs": [
    {
     "data": {
      "text/plain": [
       "12000000000000.0"
      ]
     },
     "execution_count": 6,
     "metadata": {},
     "output_type": "execute_result"
    }
   ],
   "source": [
    "12e12"
   ]
  },
  {
   "cell_type": "code",
   "execution_count": 7,
   "metadata": {
    "collapsed": false
   },
   "outputs": [
    {
     "data": {
      "text/plain": [
       "'datetime.date(2017, 2, 1)'"
      ]
     },
     "execution_count": 7,
     "metadata": {},
     "output_type": "execute_result"
    }
   ],
   "source": [
    "import datetime\n",
    "today = datetime.date(2017, 2, 1)\n",
    "repr(today)"
   ]
  },
  {
   "cell_type": "code",
   "execution_count": 8,
   "metadata": {
    "collapsed": false
   },
   "outputs": [
    {
     "data": {
      "text/plain": [
       "'2017-02-01'"
      ]
     },
     "execution_count": 8,
     "metadata": {},
     "output_type": "execute_result"
    }
   ],
   "source": [
    "str(today)"
   ]
  },
  {
   "cell_type": "markdown",
   "metadata": {},
   "source": [
    "#### polymorphic function\n",
    "\n",
    "*repr* 和 *str* 都是多态函数\n",
    "\n",
    "对每个对象调用该对象的*__repr__()* 和 *__str__()*"
   ]
  },
  {
   "cell_type": "code",
   "execution_count": 9,
   "metadata": {
    "collapsed": false
   },
   "outputs": [
    {
     "data": {
      "text/plain": [
       "'datetime.date(2017, 2, 1)'"
      ]
     },
     "execution_count": 9,
     "metadata": {},
     "output_type": "execute_result"
    }
   ],
   "source": [
    "# repr(today)调用today.__repr__()\n",
    "today.__repr__()"
   ]
  },
  {
   "cell_type": "markdown",
   "metadata": {},
   "source": [
    "#### 实现repr和str"
   ]
  },
  {
   "cell_type": "code",
   "execution_count": 15,
   "metadata": {
    "collapsed": true
   },
   "outputs": [],
   "source": [
    "class Bear:\n",
    "    \"A bear\"\n",
    "    def __repr__(self):\n",
    "        return 'Bear()'\n",
    "    def __str__(self):\n",
    "        return 'a bear'\n",
    "    def __init__(self):\n",
    "        self.__repr__ = lambda: 'oski'\n",
    "        self.__str__ = lambda: 'oski the bear'\n",
    "def print_bear():\n",
    "    oski = Bear()\n",
    "    print(oski)\n",
    "    print(str(oski))\n",
    "    print(repr(oski))\n",
    "    print(oski.__repr__())\n",
    "    print(oski.__str__())"
   ]
  },
  {
   "cell_type": "code",
   "execution_count": 13,
   "metadata": {
    "collapsed": false
   },
   "outputs": [
    {
     "data": {
      "text/plain": [
       "Bear()"
      ]
     },
     "execution_count": 13,
     "metadata": {},
     "output_type": "execute_result"
    }
   ],
   "source": [
    "Bear()"
   ]
  },
  {
   "cell_type": "code",
   "execution_count": 14,
   "metadata": {
    "collapsed": false
   },
   "outputs": [
    {
     "name": "stdout",
     "output_type": "stream",
     "text": [
      "a bear\n",
      "a bear\n",
      "Bear()\n",
      "Bear()\n",
      "a bear\n"
     ]
    }
   ],
   "source": [
    "print_bear()"
   ]
  },
  {
   "cell_type": "code",
   "execution_count": 16,
   "metadata": {
    "collapsed": false
   },
   "outputs": [
    {
     "name": "stdout",
     "output_type": "stream",
     "text": [
      "a bear\n",
      "a bear\n",
      "Bear()\n",
      "oski\n",
      "oski the bear\n"
     ]
    }
   ],
   "source": [
    "print_bear()"
   ]
  },
  {
   "cell_type": "code",
   "execution_count": 17,
   "metadata": {
    "collapsed": true
   },
   "outputs": [],
   "source": [
    "def repr(o):\n",
    "    return type(o).__repr__()\n",
    "\n",
    "def str(o):\n",
    "    if hasattr(type(o), '__str__'):\n",
    "        return type(o).__str__(o)\n",
    "    else:\n",
    "        return repr(o)"
   ]
  },
  {
   "cell_type": "markdown",
   "metadata": {},
   "source": [
    "#### 接口"
   ]
  },
  {
   "cell_type": "markdown",
   "metadata": {},
   "source": [
    "#### property method"
   ]
  },
  {
   "cell_type": "code",
   "execution_count": 22,
   "metadata": {
    "collapsed": false
   },
   "outputs": [],
   "source": [
    "class Rational:\n",
    "    def __init__(self, n, d):\n",
    "        self.numer = n\n",
    "        self.denom = d\n",
    "        \n",
    "    def __repr__(self):\n",
    "        return 'Rational({0}, {1})'.format(self.numer, self.denom)\n",
    "    \n",
    "    def __str__(self):\n",
    "        return '{0}/{1]}'.format(self.numer, self.denom)\n",
    "    \n",
    "    @property\n",
    "    def float_value(self):\n",
    "        return self.numer / self.denom"
   ]
  },
  {
   "cell_type": "code",
   "execution_count": 24,
   "metadata": {
    "collapsed": false
   },
   "outputs": [
    {
     "data": {
      "text/plain": [
       "0.5"
      ]
     },
     "execution_count": 24,
     "metadata": {},
     "output_type": "execute_result"
    }
   ],
   "source": [
    "half = Rational(1, 2)\n",
    "half.float_value"
   ]
  },
  {
   "cell_type": "code",
   "execution_count": 30,
   "metadata": {
    "collapsed": true
   },
   "outputs": [],
   "source": [
    "import math\n",
    "class ComplexRI(Complex):\n",
    "    \n",
    "    def __init__(self, real, imag):\n",
    "        self.real = real\n",
    "        self.imag = imag\n",
    "        \n",
    "    @property\n",
    "    def magnitude(self):\n",
    "        return (self.real ** 2 + self.imag ** 2) ** 0.5\n",
    "    \n",
    "    @property\n",
    "    def angle(self):\n",
    "        return math.atan2(self.imag, self.real)\n",
    "    \n",
    "    def __repr__(self):\n",
    "        return 'ComplexRI({0:g}, {1:g})'.format(self.real, self.imag)"
   ]
  },
  {
   "cell_type": "code",
   "execution_count": 31,
   "metadata": {
    "collapsed": false
   },
   "outputs": [],
   "source": [
    "# Polar representation\n",
    "class ComplexMA(Complex):\n",
    "    def __init__(self, magnitude, angle):\n",
    "        self.magnitude = magnitude\n",
    "        self.angle = angle\n",
    "        \n",
    "    @property\n",
    "    def real(self):\n",
    "        return self.magnitude * math.cos(self.angle)\n",
    "    \n",
    "    @property\n",
    "    def imag(self):\n",
    "        return self.magnitude * math.sin(self.angle)\n",
    "    \n",
    "    def __repr__(self):\n",
    "        return 'ComplexMA({0:g}, {1:g} * pi)'.format(self.magnitude, self.angle / pi)"
   ]
  },
  {
   "cell_type": "code",
   "execution_count": 32,
   "metadata": {
    "collapsed": true
   },
   "outputs": [],
   "source": [
    "class Complex:\n",
    "    def add(self, other):\n",
    "        return ComplexRI(self.real + other.real,\n",
    "                         self.imag + other.imag)\n",
    "    def mul(self, other):\n",
    "        return ComplexMA(self.magnitude * other.magnitude,\n",
    "                         self.angle + other.angle)"
   ]
  },
  {
   "cell_type": "code",
   "execution_count": 33,
   "metadata": {
    "collapsed": false
   },
   "outputs": [
    {
     "data": {
      "text/plain": [
       "ComplexRI(1, 4)"
      ]
     },
     "execution_count": 33,
     "metadata": {},
     "output_type": "execute_result"
    }
   ],
   "source": [
    "from math import pi\n",
    "ComplexRI(1, 2).add((ComplexMA(2, pi/2)))"
   ]
  },
  {
   "cell_type": "markdown",
   "metadata": {},
   "source": [
    "\n",
    "## Lecture17--0304\n",
    "\n",
    "#### More Generic Functions\n",
    "\n",
    "#### type dispatchig"
   ]
  },
  {
   "cell_type": "code",
   "execution_count": 34,
   "metadata": {
    "collapsed": false
   },
   "outputs": [
    {
     "data": {
      "text/plain": [
       "ComplexMA(1, 1 * pi)"
      ]
     },
     "execution_count": 34,
     "metadata": {},
     "output_type": "execute_result"
    }
   ],
   "source": [
    "i = ComplexRI(0, 1)\n",
    "i.mul(i)"
   ]
  },
  {
   "cell_type": "code",
   "execution_count": 35,
   "metadata": {
    "collapsed": false
   },
   "outputs": [
    {
     "data": {
      "text/plain": [
       "1.2246467991473532e-16"
      ]
     },
     "execution_count": 35,
     "metadata": {},
     "output_type": "execute_result"
    }
   ],
   "source": [
    "i.mul(i).imag"
   ]
  },
  {
   "cell_type": "code",
   "execution_count": 36,
   "metadata": {
    "collapsed": true
   },
   "outputs": [],
   "source": [
    "class Number:\n",
    "    \"\"\"A number.\"\"\"\n",
    "    def __add__(self, other):\n",
    "        return self.add(other)\n",
    "    \n",
    "    def __mul__(self, other):\n",
    "        return self.mul(other)"
   ]
  },
  {
   "cell_type": "code",
   "execution_count": 37,
   "metadata": {
    "collapsed": true
   },
   "outputs": [],
   "source": [
    "class Complex(Number):\n",
    "    def add(self, other):\n",
    "        return ComplexRI(self.real + other.real,\n",
    "                         self.imag + other.imag)\n",
    "    def mul(self, other):\n",
    "        return ComplexMA(self.magnitude * other.magnitude,\n",
    "                         self.angle + other.angle)"
   ]
  },
  {
   "cell_type": "code",
   "execution_count": 38,
   "metadata": {
    "collapsed": true
   },
   "outputs": [],
   "source": [
    "import math\n",
    "class ComplexRI(Complex):\n",
    "    \n",
    "    def __init__(self, real, imag):\n",
    "        self.real = real\n",
    "        self.imag = imag\n",
    "        \n",
    "    @property\n",
    "    def magnitude(self):\n",
    "        return (self.real ** 2 + self.imag ** 2) ** 0.5\n",
    "    \n",
    "    @property\n",
    "    def angle(self):\n",
    "        return math.atan2(self.imag, self.real)\n",
    "    \n",
    "    def __repr__(self):\n",
    "        return 'ComplexRI({0:g}, {1:g})'.format(self.real, self.imag)"
   ]
  },
  {
   "cell_type": "code",
   "execution_count": 39,
   "metadata": {
    "collapsed": true
   },
   "outputs": [],
   "source": [
    "# Polar representation\n",
    "class ComplexMA(Complex):\n",
    "    def __init__(self, magnitude, angle):\n",
    "        self.magnitude = magnitude\n",
    "        self.angle = angle\n",
    "        \n",
    "    @property\n",
    "    def real(self):\n",
    "        return self.magnitude * math.cos(self.angle)\n",
    "    \n",
    "    @property\n",
    "    def imag(self):\n",
    "        return self.magnitude * math.sin(self.angle)\n",
    "    \n",
    "    def __repr__(self):\n",
    "        return 'ComplexMA({0:g}, {1:g} * pi)'.format(self.magnitude, self.angle / pi)"
   ]
  },
  {
   "cell_type": "code",
   "execution_count": 43,
   "metadata": {
    "collapsed": true
   },
   "outputs": [],
   "source": [
    "class Rational(Number):\n",
    "    def __init__(self, numer, denom):\n",
    "        g = math.gcd(numer, denom)\n",
    "        self.numer = numer // g\n",
    "        self.denom = denom // g\n",
    "        \n",
    "    def __repr__(self):\n",
    "        return 'Ration({0}, {1})'.format(self.numer, self.denom)\n",
    "    \n",
    "    def add(self, other):\n",
    "        nx, dx = self.numer, self.denom\n",
    "        ny, dy = other.numer, other.denom\n",
    "        return Rational(nx * dy + ny * dx, dx * dy)\n",
    "    \n",
    "    def mul(self, other):\n",
    "        numer = self.numer * other.numer\n",
    "        denom = self.denom * other.denom\n",
    "        return Rational(numer, denom)"
   ]
  },
  {
   "cell_type": "code",
   "execution_count": 44,
   "metadata": {
    "collapsed": false
   },
   "outputs": [
    {
     "data": {
      "text/plain": [
       "Ration(1, 2)"
      ]
     },
     "execution_count": 44,
     "metadata": {},
     "output_type": "execute_result"
    }
   ],
   "source": [
    "third = Rational(1, 3)\n",
    "sixth = Rational(1, 6)\n",
    "third + sixth"
   ]
  },
  {
   "cell_type": "code",
   "execution_count": 45,
   "metadata": {
    "collapsed": false
   },
   "outputs": [
    {
     "data": {
      "text/plain": [
       "ComplexMA(1, 1 * pi)"
      ]
     },
     "execution_count": 45,
     "metadata": {},
     "output_type": "execute_result"
    }
   ],
   "source": [
    "i = ComplexMA(1, pi/2)\n",
    "i * i"
   ]
  },
  {
   "cell_type": "code",
   "execution_count": 46,
   "metadata": {
    "collapsed": false
   },
   "outputs": [
    {
     "data": {
      "text/plain": [
       "ComplexRI(1.22465e-16, 2)"
      ]
     },
     "execution_count": 46,
     "metadata": {},
     "output_type": "execute_result"
    }
   ],
   "source": [
    "i + i"
   ]
  },
  {
   "cell_type": "code",
   "execution_count": 48,
   "metadata": {
    "collapsed": false
   },
   "outputs": [],
   "source": [
    "def add_complex_add_rational(c, r):\n",
    "    return ComplexRI(c.real + r.numer/r.denom, c.imag)\n",
    "\n",
    "def add_rational_add_complex(r, c):\n",
    "    return add_complex_add_rational(c, r)"
   ]
  },
  {
   "cell_type": "code",
   "execution_count": 62,
   "metadata": {
    "collapsed": false
   },
   "outputs": [],
   "source": [
    "class Number:\n",
    "    def __add__(self, other):\n",
    "        if self.type_tag == other.type_tag:\n",
    "            return self.add(other)\n",
    "        elif (self.type_tag, other.type_tag) in self.adders:\n",
    "            return self.cross_apply(other, self.adders)\n",
    "     # type dispatching   \n",
    "    def cross_apply(self, other, cross_fns):\n",
    "        cross_fn = cross_fns[(self.type_tag, other.type_tag)]\n",
    "        return cross_fn(self, other)\n",
    "    \n",
    "    adders = {('com', 'rat'): add_complex_add_rational,\n",
    "                   ('rat', 'com'): add_rational_add_complex}\n",
    "    def __mul__(self, other):\n",
    "        return self,mul(other)"
   ]
  },
  {
   "cell_type": "code",
   "execution_count": 63,
   "metadata": {
    "collapsed": true
   },
   "outputs": [],
   "source": [
    "class Complex(Number):\n",
    "    def add(self, other):\n",
    "        return ComplexRI(self.real + other.real,\n",
    "                         self.imag + other.imag)\n",
    "    def mul(self, other):\n",
    "        return ComplexMA(self.magnitude * other.magnitude,\n",
    "                         self.angle + other.angle)"
   ]
  },
  {
   "cell_type": "code",
   "execution_count": 64,
   "metadata": {
    "collapsed": true
   },
   "outputs": [],
   "source": [
    "import math\n",
    "class ComplexRI(Complex):\n",
    "    \n",
    "    def __init__(self, real, imag):\n",
    "        self.real = real\n",
    "        self.imag = imag\n",
    "        \n",
    "    @property\n",
    "    def magnitude(self):\n",
    "        return (self.real ** 2 + self.imag ** 2) ** 0.5\n",
    "    \n",
    "    @property\n",
    "    def angle(self):\n",
    "        return math.atan2(self.imag, self.real)\n",
    "    \n",
    "    def __repr__(self):\n",
    "        return 'ComplexRI({0:g}, {1:g})'.format(self.real, self.imag)"
   ]
  },
  {
   "cell_type": "code",
   "execution_count": 65,
   "metadata": {
    "collapsed": true
   },
   "outputs": [],
   "source": [
    "# Polar representation\n",
    "class ComplexMA(Complex):\n",
    "    def __init__(self, magnitude, angle):\n",
    "        self.magnitude = magnitude\n",
    "        self.angle = angle\n",
    "        \n",
    "    @property\n",
    "    def real(self):\n",
    "        return self.magnitude * math.cos(self.angle)\n",
    "    \n",
    "    @property\n",
    "    def imag(self):\n",
    "        return self.magnitude * math.sin(self.angle)\n",
    "    \n",
    "    def __repr__(self):\n",
    "        return 'ComplexMA({0:g}, {1:g} * pi)'.format(self.magnitude, self.angle / pi)"
   ]
  },
  {
   "cell_type": "code",
   "execution_count": 66,
   "metadata": {
    "collapsed": true
   },
   "outputs": [],
   "source": [
    "Rational.type_tag = 'rat'\n",
    "Complex.type_tag = 'com'"
   ]
  },
  {
   "cell_type": "code",
   "execution_count": 67,
   "metadata": {
    "collapsed": false
   },
   "outputs": [
    {
     "data": {
      "text/plain": [
       "ComplexRI(0.5, 1)"
      ]
     },
     "execution_count": 67,
     "metadata": {},
     "output_type": "execute_result"
    }
   ],
   "source": [
    "i = ComplexMA(1, pi/2)\n",
    "half = Rational(1, 2)\n",
    "i + half"
   ]
  },
  {
   "cell_type": "markdown",
   "metadata": {
    "collapsed": true
   },
   "source": [
    "## Lecture18--0306\n",
    "\n",
    "## Linked list"
   ]
  },
  {
   "cell_type": "markdown",
   "metadata": {},
   "source": [
    "---\n",
    "\n",
    "## Lecture19--0309"
   ]
  },
  {
   "cell_type": "code",
   "execution_count": 9,
   "metadata": {
    "collapsed": false
   },
   "outputs": [
    {
     "data": {
      "text/plain": [
       "<function __main__.fib>"
      ]
     },
     "execution_count": 9,
     "metadata": {},
     "output_type": "execute_result"
    }
   ],
   "source": [
    "def fib(n):\n",
    "    if n == 0 or n == 1:\n",
    "        return n\n",
    "    else:\n",
    "        return fib(n-2) + fib(n-1)\n",
    "    \n",
    "fib"
   ]
  },
  {
   "cell_type": "code",
   "execution_count": 10,
   "metadata": {
    "collapsed": false
   },
   "outputs": [
    {
     "name": "stdout",
     "output_type": "stream",
     "text": [
      "<function fib at 0x00000160D1234A60>\n"
     ]
    },
    {
     "data": {
      "text/plain": [
       "1"
      ]
     },
     "execution_count": 10,
     "metadata": {},
     "output_type": "execute_result"
    }
   ],
   "source": [
    "def count(f):\n",
    "    def counted(*arg):\n",
    "        counted.call_count += 1\n",
    "        return f(*arg)\n",
    "    counted.call_count = 0\n",
    "    print(f)\n",
    "    return counted\n",
    "\n",
    "fib = count(fib)\n",
    "\n",
    "fib(1)"
   ]
  },
  {
   "cell_type": "code",
   "execution_count": 8,
   "metadata": {
    "collapsed": false
   },
   "outputs": [
    {
     "data": {
      "text/plain": [
       "<function __main__.count.<locals>.counted>"
      ]
     },
     "execution_count": 8,
     "metadata": {},
     "output_type": "execute_result"
    }
   ],
   "source": [
    "fib"
   ]
  },
  {
   "cell_type": "code",
   "execution_count": 13,
   "metadata": {
    "collapsed": false
   },
   "outputs": [],
   "source": [
    "def count(f):\n",
    "    def counted(*arg):\n",
    "        counted.call_count += 1\n",
    "        return f(*arg)\n",
    "    counted.call_count = 0\n",
    "    return counted\n",
    "\n",
    "fib = count(fib)"
   ]
  },
  {
   "cell_type": "code",
   "execution_count": 14,
   "metadata": {
    "collapsed": true
   },
   "outputs": [],
   "source": [
    "def memo(f):\n",
    "    cache = {}\n",
    "    def memorized(*args):\n",
    "        if args not in cache:\n",
    "            cache[args] = f(*args)\n",
    "        return cache[args]\n",
    "    return memorized"
   ]
  },
  {
   "cell_type": "code",
   "execution_count": 15,
   "metadata": {
    "collapsed": false
   },
   "outputs": [
    {
     "data": {
      "text/plain": [
       "832040"
      ]
     },
     "execution_count": 15,
     "metadata": {},
     "output_type": "execute_result"
    }
   ],
   "source": [
    "counted_fib = count(fib)\n",
    "memo_fib = memo(counted_fib)\n",
    "fib = count(memo_fib)\n",
    "fib(30)"
   ]
  },
  {
   "cell_type": "code",
   "execution_count": 16,
   "metadata": {
    "collapsed": false
   },
   "outputs": [
    {
     "data": {
      "text/plain": [
       "31"
      ]
     },
     "execution_count": 16,
     "metadata": {},
     "output_type": "execute_result"
    }
   ],
   "source": [
    "counted_fib.call_count"
   ]
  },
  {
   "cell_type": "code",
   "execution_count": 17,
   "metadata": {
    "collapsed": false
   },
   "outputs": [
    {
     "data": {
      "text/plain": [
       "59"
      ]
     },
     "execution_count": 17,
     "metadata": {},
     "output_type": "execute_result"
    }
   ],
   "source": [
    "fib.call_count"
   ]
  },
  {
   "cell_type": "markdown",
   "metadata": {},
   "source": [
    "#### Tree Class"
   ]
  },
  {
   "cell_type": "code",
   "execution_count": 21,
   "metadata": {
    "collapsed": true
   },
   "outputs": [],
   "source": [
    "class Tree:\n",
    "    def __init__(self, entry, branches=()):\n",
    "        self.entry = entry\n",
    "        for branch in branches:\n",
    "            assert isinstance(branch, Tree)\n",
    "        self.branches = list(branches)\n",
    "        \n",
    "    def __repr__(self):\n",
    "        if self.branches:\n",
    "            branches_repr = \", \" + repr(self.branches)\n",
    "        else:\n",
    "            branches_repr = \"\"\n",
    "        return \"Tree({0}{1})\".format(self.entry, branches_repr)\n",
    "@memo        \n",
    "def fib_tree(n):\n",
    "    if n == 0 or n == 1:\n",
    "        return Tree(n)\n",
    "    else:\n",
    "        left, right = fib_tree(n-2), fib_tree(n-1)\n",
    "        entry = left.entry + right.entry\n",
    "        return Tree(entry, [left, right]) "
   ]
  },
  {
   "cell_type": "code",
   "execution_count": 19,
   "metadata": {
    "collapsed": false
   },
   "outputs": [
    {
     "data": {
      "text/plain": [
       "Tree(5, [Tree(2, [Tree(1), Tree(1, [Tree(0), Tree(1)])]), Tree(3, [Tree(1, [Tree(0), Tree(1)]), Tree(2, [Tree(1), Tree(1, [Tree(0), Tree(1)])])])])"
      ]
     },
     "execution_count": 19,
     "metadata": {},
     "output_type": "execute_result"
    }
   ],
   "source": [
    "fib_tree(5)"
   ]
  },
  {
   "cell_type": "code",
   "execution_count": 20,
   "metadata": {
    "collapsed": false
   },
   "outputs": [
    {
     "data": {
      "text/plain": [
       "5"
      ]
     },
     "execution_count": 20,
     "metadata": {},
     "output_type": "execute_result"
    }
   ],
   "source": [
    "fib_tree(5).entry"
   ]
  },
  {
   "cell_type": "code",
   "execution_count": 23,
   "metadata": {
    "collapsed": false
   },
   "outputs": [],
   "source": [
    "t = fib_tree(30)"
   ]
  },
  {
   "cell_type": "code",
   "execution_count": 24,
   "metadata": {
    "collapsed": false
   },
   "outputs": [
    {
     "data": {
      "text/plain": [
       "832040"
      ]
     },
     "execution_count": 24,
     "metadata": {},
     "output_type": "execute_result"
    }
   ],
   "source": [
    "t.entry"
   ]
  },
  {
   "cell_type": "code",
   "execution_count": 25,
   "metadata": {
    "collapsed": false
   },
   "outputs": [
    {
     "data": {
      "text/plain": [
       "True"
      ]
     },
     "execution_count": 25,
     "metadata": {},
     "output_type": "execute_result"
    }
   ],
   "source": [
    "t.branches[0] is t.branches[1].branches[1]"
   ]
  },
  {
   "cell_type": "markdown",
   "metadata": {},
   "source": [
    " #### Hailstone Trees"
   ]
  },
  {
   "cell_type": "code",
   "execution_count": 30,
   "metadata": {
    "collapsed": true
   },
   "outputs": [],
   "source": [
    "def hailstone_tree(k, n=1):\n",
    "    \"\"\"Return a Tree in which the paths from the\n",
    "    leaves to the root are all possible hailstone\n",
    "    sequences fo length k ending in n.\"\"\"\n",
    "    if k == 1:\n",
    "        return Tree(n)\n",
    "    else:\n",
    "        branches = []\n",
    "        greater, less = 2*n, (n-1)/3\n",
    "        branches.append(hailstone_tree(k-1, greater))\n",
    "        if less > 1 and is_int(less):\n",
    "            branches.append(hailstone_tree(k-1, int(less)))\n",
    "        return Tree(n, branches)\n",
    "        \n",
    "def hailstone(n):\n",
    "    if n == 1:\n",
    "        return 1\n",
    "    elif n % 2 == 0:\n",
    "        return 1 + hailstone(n//2)\n",
    "    else:\n",
    "        return 1 + hailstone(3*n+1)\n",
    "    \n",
    "def is_int(x):\n",
    "    return int(x) == x\n",
    "def is_odd(x):\n",
    "    return x % 2 == 1"
   ]
  },
  {
   "cell_type": "code",
   "execution_count": 27,
   "metadata": {
    "collapsed": false
   },
   "outputs": [
    {
     "data": {
      "text/plain": [
       "Tree(1, [Tree(2, [Tree(4, [Tree(8, [Tree(16, [Tree(32), Tree(5.0)])])])])])"
      ]
     },
     "execution_count": 27,
     "metadata": {},
     "output_type": "execute_result"
    }
   ],
   "source": [
    "hailstone_tree(6)"
   ]
  },
  {
   "cell_type": "code",
   "execution_count": 28,
   "metadata": {
    "collapsed": false
   },
   "outputs": [
    {
     "data": {
      "text/plain": [
       "5.0"
      ]
     },
     "execution_count": 28,
     "metadata": {},
     "output_type": "execute_result"
    }
   ],
   "source": [
    "15/3"
   ]
  },
  {
   "cell_type": "code",
   "execution_count": 29,
   "metadata": {
    "collapsed": false
   },
   "outputs": [
    {
     "data": {
      "text/plain": [
       "5"
      ]
     },
     "execution_count": 29,
     "metadata": {},
     "output_type": "execute_result"
    }
   ],
   "source": [
    "15//3"
   ]
  }
 ],
 "metadata": {
  "anaconda-cloud": {},
  "kernelspec": {
   "display_name": "Python 3",
   "language": "python",
   "name": "python3"
  },
  "language_info": {
   "codemirror_mode": {
    "name": "ipython",
    "version": 3
   },
   "file_extension": ".py",
   "mimetype": "text/x-python",
   "name": "python",
   "nbconvert_exporter": "python",
   "pygments_lexer": "ipython3",
   "version": "3.6.0"
  }
 },
 "nbformat": 4,
 "nbformat_minor": 2
}
