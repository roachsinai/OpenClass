{
 "cells": [
  {
   "cell_type": "markdown",
   "metadata": {},
   "source": [
    "# Lecture34--0422"
   ]
  },
  {
   "cell_type": "markdown",
   "metadata": {},
   "source": [
    "---\n",
    "\n",
    "![](img/0422-1.png)"
   ]
  },
  {
   "cell_type": "markdown",
   "metadata": {},
   "source": [
    "**aggregate 只能用于 select 语句，不能用于 where 语句。**\n",
    "\n",
    "**aggregate 选取了表的一行**\n",
    "\n",
    "+ select max(legs), kind from animals;  #cat, 但是有的情况可能没有意义\n",
    "\n",
    "---\n",
    "\n",
    "![](img/0422-2.png)\n",
    "\n",
    "---\n",
    "\n",
    "![](img/0422-3.png)"
   ]
  },
  {
   "cell_type": "markdown",
   "metadata": {},
   "source": [
    "---\n",
    "\n",
    "![](img/0422-4.png)\n",
    "\n",
    "### Select Grammar\n",
    "\n",
    "---\n",
    "\n",
    "![](img/0422-5.png)"
   ]
  },
  {
   "cell_type": "markdown",
   "metadata": {},
   "source": [
    "# Lecture35--0424\n",
    "\n",
    "### Distributed Computing"
   ]
  },
  {
   "cell_type": "raw",
   "metadata": {},
   "source": [
    "traceroute www.google.com"
   ]
  },
  {
   "cell_type": "markdown",
   "metadata": {},
   "source": [
    "# Lecture36--0427\n",
    "\n",
    "## A unifying property of effective systems:\n",
    "\n",
    "**Hide complexity, but retain flexibility**"
   ]
  },
  {
   "cell_type": "markdown",
   "metadata": {
    "collapsed": true
   },
   "source": [
    "---\n",
    "\n",
    "![](img/0427-1.png)\n",
    "\n",
    "---\n",
    "\n",
    "![](img/0427-2.png)"
   ]
  },
  {
   "cell_type": "raw",
   "metadata": {},
   "source": [
    "#file 36-1.py\n",
    "\n",
    "#!/usr/bin/env python3\n",
    "\n",
    "import sys\n",
    "\n",
    "for line in sys.stdin:\n",
    "    sys.stdout.write(' '.join(line))"
   ]
  },
  {
   "cell_type": "markdown",
   "metadata": {},
   "source": [
    "### MapReduce\n",
    "\n",
    "---\n",
    "\n",
    "![](img/0427-3.png)\n",
    "\n",
    "---\n",
    "\n",
    "![](img/0427-4.png)"
   ]
  },
  {
   "cell_type": "markdown",
   "metadata": {},
   "source": [
    "---\n",
    "\n",
    "![](img/0427-5.png)\n",
    "\n",
    "---\n",
    "\n",
    "**A \"task\" is a Unix process running on a machine.**\n",
    "\n",
    "![](img/0427-6.png)"
   ]
  },
  {
   "cell_type": "markdown",
   "metadata": {},
   "source": [
    "### MapReduce 的重要假设\n",
    "\n",
    "---\n",
    "\n",
    "![](img/0427-7.png)"
   ]
  },
  {
   "cell_type": "markdown",
   "metadata": {},
   "source": [
    "# Lecture37--0429"
   ]
  },
  {
   "cell_type": "markdown",
   "metadata": {},
   "source": [
    "# Lecture38--0501"
   ]
  },
  {
   "cell_type": "markdown",
   "metadata": {},
   "source": [
    "+ **freedom**: It matters what you choose!\n",
    "+ **power**: get the ability to screw up the world\n",
    "+ **self-worth**: foucs on yourself, don't compare"
   ]
  },
  {
   "cell_type": "code",
   "execution_count": null,
   "metadata": {
    "collapsed": true
   },
   "outputs": [],
   "source": []
  }
 ],
 "metadata": {
  "kernelspec": {
   "display_name": "Python [conda root]",
   "language": "python",
   "name": "conda-root-py"
  },
  "language_info": {
   "codemirror_mode": {
    "name": "ipython",
    "version": 3
   },
   "file_extension": ".py",
   "mimetype": "text/x-python",
   "name": "python",
   "nbconvert_exporter": "python",
   "pygments_lexer": "ipython3",
   "version": "3.5.2"
  }
 },
 "nbformat": 4,
 "nbformat_minor": 2
}
