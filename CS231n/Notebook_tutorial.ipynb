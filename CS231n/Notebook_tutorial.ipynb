{
 "cells": [
  {
   "cell_type": "code",
   "execution_count": 9,
   "metadata": {
    "collapsed": false,
    "nbpresent": {
     "id": "4cbb244c-caec-4bda-b6ea-3b26b03ae497"
    },
    "scrolled": true
   },
   "outputs": [
    {
     "name": "stdout",
     "output_type": "stream",
     "text": [
      "2\n"
     ]
    }
   ],
   "source": [
    "x = 1 + 1\n",
    "print(x)"
   ]
  },
  {
   "cell_type": "code",
   "execution_count": 10,
   "metadata": {
    "collapsed": false,
    "nbpresent": {
     "id": "f89d80af-35bb-4c4e-9112-1c1ba3afd0af"
    },
    "scrolled": true
   },
   "outputs": [
    {
     "name": "stdout",
     "output_type": "stream",
     "text": [
      "4\n"
     ]
    }
   ],
   "source": [
    "y = 2 + x\n",
    "print(y)"
   ]
  },
  {
   "cell_type": "markdown",
   "metadata": {
    "nbpresent": {
     "id": "3f242dc3-c300-488e-b0db-12b34e4dea1f"
    }
   },
   "source": [
    "## First head\n",
    "\n",
    "$$\\frac{1}{2}$$"
   ]
  },
  {
   "cell_type": "raw",
   "metadata": {},
   "source": []
  }
 ],
 "metadata": {
  "kernelspec": {
   "display_name": "Python [Root]",
   "language": "python",
   "name": "Python [Root]"
  },
  "language_info": {
   "codemirror_mode": {
    "name": "ipython",
    "version": 3
   },
   "file_extension": ".py",
   "mimetype": "text/x-python",
   "name": "python",
   "nbconvert_exporter": "python",
   "pygments_lexer": "ipython3",
   "version": "3.5.1"
  },
  "nbpresent": {
   "slides": {
    "0fdc1fe7-99db-41db-a839-b59154d0d2ea": {
     "id": "0fdc1fe7-99db-41db-a839-b59154d0d2ea",
     "prev": "c13aa1ff-520e-4478-9a1a-c5e4f15a1b38",
     "regions": {
      "a5510dba-40b2-4e9b-9578-d99742c8030e": {
       "attrs": {
        "height": 0.8,
        "width": 0.8,
        "x": 0.1,
        "y": 0.1
       },
       "content": {
        "cell": "f89d80af-35bb-4c4e-9112-1c1ba3afd0af",
        "part": "whole"
       },
       "id": "a5510dba-40b2-4e9b-9578-d99742c8030e"
      }
     }
    },
    "4c6f8a2e-34e6-4fbb-9a07-976415244379": {
     "id": "4c6f8a2e-34e6-4fbb-9a07-976415244379",
     "prev": "0fdc1fe7-99db-41db-a839-b59154d0d2ea",
     "regions": {
      "24b66c23-8635-4ee8-b02d-6d1fd032b98b": {
       "attrs": {
        "height": 0.8,
        "width": 0.8,
        "x": 0.1,
        "y": 0.1
       },
       "content": {
        "cell": "3f242dc3-c300-488e-b0db-12b34e4dea1f",
        "part": "whole"
       },
       "id": "24b66c23-8635-4ee8-b02d-6d1fd032b98b"
      }
     }
    },
    "c13aa1ff-520e-4478-9a1a-c5e4f15a1b38": {
     "id": "c13aa1ff-520e-4478-9a1a-c5e4f15a1b38",
     "prev": null,
     "regions": {
      "a7af8166-53e0-47ff-87a9-640b8ecea8a6": {
       "attrs": {
        "height": 0.8,
        "width": 0.8,
        "x": 0.1,
        "y": 0.1
       },
       "content": {
        "cell": "4cbb244c-caec-4bda-b6ea-3b26b03ae497",
        "part": "whole"
       },
       "id": "a7af8166-53e0-47ff-87a9-640b8ecea8a6"
      }
     }
    }
   },
   "themes": {}
  }
 },
 "nbformat": 4,
 "nbformat_minor": 0
}
