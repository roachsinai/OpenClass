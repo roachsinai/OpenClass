{
 "cells": [
  {
   "cell_type": "code",
   "execution_count": 35,
   "metadata": {
    "collapsed": true
   },
   "outputs": [],
   "source": [
    "from random import randint\n",
    "import math"
   ]
  },
  {
   "cell_type": "code",
   "execution_count": 6,
   "metadata": {
    "collapsed": false
   },
   "outputs": [
    {
     "name": "stdout",
     "output_type": "stream",
     "text": [
      "Help on method randint in module random:\n",
      "\n",
      "randint(a, b) method of random.Random instance\n",
      "    Return random integer in range [a, b], including both end points.\n",
      "\n"
     ]
    }
   ],
   "source": [
    "x = randint(0,300)\n",
    "help(randint)"
   ]
  },
  {
   "cell_type": "code",
   "execution_count": 7,
   "metadata": {
    "collapsed": false
   },
   "outputs": [
    {
     "name": "stdout",
     "output_type": "stream",
     "text": [
      "Please input a number between 0~300:\n",
      "2\n",
      "Too small, try again.\n"
     ]
    }
   ],
   "source": [
    "print('Please input a number between 0~300:')\n",
    "digit = int(input())\n",
    "if digit==x:\n",
    "    print('Bingo!')\n",
    "elif digit>x:\n",
    "    print('Too large, try again.')\n",
    "else:\n",
    "    print('Too small, try again.')"
   ]
  },
  {
   "cell_type": "code",
   "execution_count": 8,
   "metadata": {
    "collapsed": false
   },
   "outputs": [],
   "source": [
    "input?"
   ]
  },
  {
   "cell_type": "code",
   "execution_count": 9,
   "metadata": {
    "collapsed": false
   },
   "outputs": [
    {
     "data": {
      "text/plain": [
       "[0, 1, 2, 3, 4, 5, 6, 7, 8, 9]"
      ]
     },
     "execution_count": 9,
     "metadata": {},
     "output_type": "execute_result"
    }
   ],
   "source": [
    "list(range(10))"
   ]
  },
  {
   "cell_type": "code",
   "execution_count": 10,
   "metadata": {
    "collapsed": false
   },
   "outputs": [
    {
     "data": {
      "text/plain": [
       "250"
      ]
     },
     "execution_count": 10,
     "metadata": {},
     "output_type": "execute_result"
    }
   ],
   "source": [
    "x"
   ]
  },
  {
   "cell_type": "code",
   "execution_count": 12,
   "metadata": {
    "collapsed": false
   },
   "outputs": [
    {
     "name": "stdout",
     "output_type": "stream",
     "text": [
      "Please input a number between 0~300:\n",
      "250\n",
      "Bingo!\n"
     ]
    }
   ],
   "source": [
    "print('Please input a number between 0~300:')\n",
    "while True:\n",
    "    digit = int(input())\n",
    "    if digit==x:\n",
    "        print('Bingo!')\n",
    "        break\n",
    "    elif digit>x:\n",
    "        print('Too large, try again.')\n",
    "    else:\n",
    "        print('Too small, try again.')"
   ]
  },
  {
   "cell_type": "code",
   "execution_count": 24,
   "metadata": {
    "collapsed": false
   },
   "outputs": [
    {
     "name": "stdout",
     "output_type": "stream",
     "text": [
      "2\n",
      "3\n",
      "5\n",
      "7\n",
      "11\n",
      "13\n",
      "17\n",
      "19\n",
      "23\n",
      "29\n",
      "31\n",
      "37\n",
      "41\n",
      "43\n",
      "47\n",
      "53\n",
      "59\n",
      "61\n",
      "67\n",
      "71\n",
      "73\n",
      "79\n",
      "83\n",
      "89\n",
      "97\n"
     ]
    }
   ],
   "source": [
    "from math import sqrt\n",
    "\n",
    "for i in range(2,100):\n",
    "    flag = 0;\n",
    "    k = int(sqrt(i));\n",
    "    for j in range(2,k+1):\n",
    "        if (i % j == 0):\n",
    "            flag = 1\n",
    "            break\n",
    "    if (not flag):\n",
    "        print(i)\n",
    "        "
   ]
  },
  {
   "cell_type": "markdown",
   "metadata": {},
   "source": [
    "```\n",
    "Score\tGrade\n",
    "90~100\tA\n",
    "70~89\tB\n",
    "60~69\tC\n",
    "0~59\tD\n",
    "others\tInvalid score\n",
    "```"
   ]
  },
  {
   "cell_type": "code",
   "execution_count": 27,
   "metadata": {
    "collapsed": false
   },
   "outputs": [
    {
     "name": "stdout",
     "output_type": "stream",
     "text": [
      "Please input your score:90\n",
      "A\n",
      "Your grade is \n"
     ]
    }
   ],
   "source": [
    "def get_grade(score):\n",
    "    '''input: your score\n",
    "        output: your grade'''\n",
    "    if (90<=score<=100):\n",
    "        print('A');\n",
    "    elif (70<=score<90):\n",
    "        print('B')\n",
    "    elif (60<=score<70):\n",
    "        print('C')\n",
    "    elif (0<=score<60):\n",
    "        print('D')\n",
    "    else:\n",
    "        print('Invalid score!')\n",
    "        \n",
    "x = int(input(\"Please input your score:\"))\n",
    "print('Your grade is {0}'.format(get_grade(x)))"
   ]
  },
  {
   "cell_type": "code",
   "execution_count": 31,
   "metadata": {
    "collapsed": true
   },
   "outputs": [],
   "source": [
    "import math\n",
    "def fun(num):\n",
    "    if num<0:\n",
    "        print('-'),\n",
    "        num = -num\n",
    "    if num//10:\n",
    "        fun(num//10)\n",
    "    print(chr(num%10+48)),"
   ]
  },
  {
   "cell_type": "code",
   "execution_count": 32,
   "metadata": {
    "collapsed": false
   },
   "outputs": [
    {
     "name": "stdout",
     "output_type": "stream",
     "text": [
      "-\n",
      "1\n",
      "2\n",
      "3\n",
      "4\n"
     ]
    }
   ],
   "source": [
    "fun(-1234)"
   ]
  },
  {
   "cell_type": "code",
   "execution_count": 30,
   "metadata": {
    "collapsed": false
   },
   "outputs": [
    {
     "data": {
      "text/plain": [
       "12.3"
      ]
     },
     "execution_count": 30,
     "metadata": {},
     "output_type": "execute_result"
    }
   ],
   "source": [
    "123/10"
   ]
  },
  {
   "cell_type": "code",
   "execution_count": 34,
   "metadata": {
    "collapsed": false
   },
   "outputs": [
    {
     "name": "stdout",
     "output_type": "stream",
     "text": [
      "-\n",
      "3\n",
      "4\n",
      "5\n"
     ]
    }
   ],
   "source": [
    "def proc(n ):\n",
    "    if (n<0):\n",
    "        print('-'), \n",
    "        n = -n\n",
    "    if (n // 10):\n",
    "        proc(n // 10 )\n",
    "    print(n % 10),\n",
    "\n",
    "proc(-345 )"
   ]
  },
  {
   "cell_type": "code",
   "execution_count": 48,
   "metadata": {
    "collapsed": false
   },
   "outputs": [],
   "source": [
    "# isPrime M,P and M = 2**P-1 墨尼森数\n",
    "def isPrime(x):\n",
    "    i = int(math.sqrt(x))\n",
    "    for j in range(2,i+1):\n",
    "        if (x%j == 0):\n",
    "            return False\n",
    "    return True\n",
    "\n",
    "def Mo(x):\n",
    "    i = 2\n",
    "    while (x):\n",
    "        if (isPrime(i) and isPrime(2**i-1)):\n",
    "            print(\"{0}, {1}\".format(i, 2**i-1))\n",
    "            x -= 1\n",
    "        i += 1"
   ]
  },
  {
   "cell_type": "code",
   "execution_count": 49,
   "metadata": {
    "collapsed": false
   },
   "outputs": [
    {
     "name": "stdout",
     "output_type": "stream",
     "text": [
      "2, 3\n",
      "3, 7\n",
      "5, 31\n",
      "7, 127\n",
      "13, 8191\n"
     ]
    }
   ],
   "source": [
    "Mo(5)"
   ]
  },
  {
   "cell_type": "code",
   "execution_count": 50,
   "metadata": {
    "collapsed": false
   },
   "outputs": [
    {
     "data": {
      "text/plain": [
       "0"
      ]
     },
     "execution_count": 50,
     "metadata": {},
     "output_type": "execute_result"
    }
   ],
   "source": [
    "def my_abs(x):\n",
    "    if x > 0:\n",
    "        return x\n",
    "    else:\n",
    "        return -x\n",
    "my_abs(0)"
   ]
  },
  {
   "cell_type": "code",
   "execution_count": 51,
   "metadata": {
    "collapsed": false
   },
   "outputs": [
    {
     "data": {
      "text/plain": [
       "True"
      ]
     },
     "execution_count": 51,
     "metadata": {},
     "output_type": "execute_result"
    }
   ],
   "source": [
    "True == 1"
   ]
  },
  {
   "cell_type": "code",
   "execution_count": 53,
   "metadata": {
    "collapsed": false
   },
   "outputs": [],
   "source": [
    "def my_power(x, n = 2):\n",
    "    s = 1\n",
    "    while n > 0:\n",
    "        n -= 1\n",
    "        s = s * x\n",
    "    return s"
   ]
  },
  {
   "cell_type": "code",
   "execution_count": 54,
   "metadata": {
    "collapsed": false
   },
   "outputs": [
    {
     "data": {
      "text/plain": [
       "27"
      ]
     },
     "execution_count": 54,
     "metadata": {},
     "output_type": "execute_result"
    }
   ],
   "source": [
    "my_power(3, 3)"
   ]
  },
  {
   "cell_type": "code",
   "execution_count": null,
   "metadata": {
    "collapsed": true
   },
   "outputs": [],
   "source": []
  }
 ],
 "metadata": {
  "anaconda-cloud": {},
  "kernelspec": {
   "display_name": "Python [conda root]",
   "language": "python",
   "name": "conda-root-py"
  },
  "language_info": {
   "codemirror_mode": {
    "name": "ipython",
    "version": 3
   },
   "file_extension": ".py",
   "mimetype": "text/x-python",
   "name": "python",
   "nbconvert_exporter": "python",
   "pygments_lexer": "ipython3",
   "version": "3.5.2"
  }
 },
 "nbformat": 4,
 "nbformat_minor": 1
}
