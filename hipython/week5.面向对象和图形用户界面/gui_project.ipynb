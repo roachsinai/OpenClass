{
 "cells": [
  {
   "cell_type": "markdown",
   "metadata": {},
   "source": [
    "quotespd.py"
   ]
  },
  {
   "cell_type": "code",
   "execution_count": 1,
   "metadata": {
    "collapsed": false
   },
   "outputs": [],
   "source": [
    "from matplotlib.finance import quotes_historical_yahoo_ochl\n",
    "from datetime import date\n",
    "from datetime import datetime\n",
    "import pandas as pd\n",
    "import numpy as np\n",
    "import scipy.stats\n",
    "import matplotlib.pyplot as plt"
   ]
  },
  {
   "cell_type": "code",
   "execution_count": 2,
   "metadata": {
    "collapsed": false
   },
   "outputs": [],
   "source": [
    "def _wxdata2pydate(date):\n",
    "    import datetime\n",
    "    if date.IsValid():\n",
    "        ymd = map(int, date.FormateISODate().split('-'))\n",
    "        return datetime.date(*ymd)\n",
    "    else:\n",
    "        return None"
   ]
  },
  {
   "cell_type": "code",
   "execution_count": 3,
   "metadata": {
    "collapsed": true
   },
   "outputs": [],
   "source": [
    "def PlotData(code, start, end, list):\n",
    "    start_date = _wxdate2pydate(start)\n",
    "    end_date = _wxdata2pydate(end)\n",
    "    print code\n",
    "    print start_date\n",
    "    print end_date\n",
    "    quotes = quotes_historical_yahoo_ochl(code, start_date, end_date)\n",
    "    fields = ['date','open','close','high','low','volume']\n",
    "    \n",
    "    list1 = [datetime.strftime(date.fromordinal(int(quotes[i][0])),'%Y-%m-%d') for i in range(0,len(quotes))]\n",
    "    \n",
    "    quotesdf = pd.DataFrame(quotes, index = list1, columns = fields)\n",
    "    quotesdf = quotesdf.drop(['date'], axis = 1)\n",
    "    quotesdftemp = quotesdf.copy()\n",
    "    print 'ready to plot'\n",
    "    quotesdftemp.plot(marker='o')"
   ]
  },
  {
   "cell_type": "markdown",
   "metadata": {},
   "source": [
    "---\n",
    "\n",
    "custom_dialogs.py"
   ]
  },
  {
   "cell_type": "code",
   "execution_count": 4,
   "metadata": {
    "collapsed": true
   },
   "outputs": [],
   "source": [
    "import wx"
   ]
  },
  {
   "cell_type": "code",
   "execution_count": 5,
   "metadata": {
    "collapsed": true
   },
   "outputs": [],
   "source": [
    "class ChangeDepthDialog(wx.Dialog):\n",
    "    \n",
    "    def __init__(self, *args, **kw):\n",
    "        super(ChangeDepthDialog, self).__init__(*args, **kw) \n",
    "\n",
    "        self.InitUI()\n",
    "        self.SetSize((350, 200))\n",
    "        self.SetTitle(\"Configure Data\")\n",
    "        \n",
    "    def InitUI(self):\n",
    "        self.option_list = ['open', 'close', 'high', 'low', 'volume']\n",
    "        \n",
    "        pnl = wx.Panel(self)\n",
    "        vbox = wx.BoxSizer(wx.VERTICAL)\n",
    "        hbox = wx.BoxSizer(wx.HORIZONTAL)\n",
    "\n",
    "        sb = wx.StaticBox(pnl, label='Data Range')\n",
    "        sbs = wx.StaticBoxSizer(sb, orient=wx.VERTICAL) \n",
    "        \n",
    "        sbs.Add(wx.StaticText(pnl, -1, r'Start Date'))\n",
    "        self.dc_start = wx.DatePickerCtrl(pnl, -1, style=wx.DP_DROPDOWN, pos=(130, 70))\n",
    "        sbs.Add(self.dc_start)\n",
    "        sbs.Add(wx.StaticText(pnl, -1, r'End Date'))\n",
    "        self.dc_end = wx.DatePickerCtrl(pnl, -1, style=wx.DP_DROPDOWN, pos=(330, 70))\n",
    "        sbs.Add(self.dc_end)\n",
    "        pnl.SetSizer(sbs)\n",
    "\n",
    "        pnl2 = wx.Panel(self)\n",
    "        sb2 = wx.StaticBox(pnl2, label='Data Set')\n",
    "        sbs2 = wx.StaticBoxSizer(sb2, orient=wx.VERTICAL)        \n",
    "        self.cb_list = []\n",
    "        for l in self.option_list:\n",
    "            cb = wx.CheckBox(pnl2, label = l) # originally 3 params: style=wx.RB_GROUP\n",
    "            sbs2.Add(cb)\n",
    "            self.cb_list.append(cb)\n",
    "        \n",
    "         \n",
    "        pnl2.SetSizer(sbs2)\n",
    "        hbox.Add(pnl)\n",
    "        hbox.Add(pnl2)\n",
    "       \n",
    "        hbox2 = wx.BoxSizer(wx.HORIZONTAL)\n",
    "        okButton = wx.Button(self, label='Ok')\n",
    "        closeButton = wx.Button(self, label='Close')\n",
    "        hbox2.Add(okButton)\n",
    "        hbox2.Add(closeButton, flag=wx.LEFT, border=5)\n",
    "\n",
    "        vbox.Add(hbox, proportion=1)\n",
    "        vbox.Add(hbox2, \n",
    "            flag=wx.ALIGN_CENTER|wx.TOP|wx.BOTTOM, border=10)\n",
    "\n",
    "        self.SetSizer(vbox)\n",
    "        \n",
    "        okButton.Bind(wx.EVT_BUTTON, self.OnClose)\n",
    "        closeButton.Bind(wx.EVT_BUTTON, self.OnClose)\n",
    "    \n",
    "    def ShowDialog(self, code1):\n",
    "        self.code = code1\n",
    "        self.Show(True)\n",
    "        \n",
    "    def OnClose(self, e):\n",
    "        l = []\n",
    "        for i, cb in enumerate(self.cb_list):\n",
    "            if cb.GetValue():\n",
    "                l.append(self.option_list[i])\n",
    "        print l\n",
    "        print self.code\n",
    "        print self.dc_start.GetValue(), self.dc_end.GetValue()\n",
    "        quotespd.PlotData(code = self.code, start = self.dc_start.GetValue(), end = self.dc_end.GetValue(), list = l)\n",
    "        #self.Destroy()"
   ]
  },
  {
   "cell_type": "code",
   "execution_count": 6,
   "metadata": {
    "collapsed": true
   },
   "outputs": [],
   "source": [
    "def ConfigureData(codes):\n",
    "    print \"codes in dialogs\", codes\n",
    "    ex = wx.App()\n",
    "    print \"retrived the first code\", codes[0]\n",
    "    cd = ChangeDepthDialog(None)\n",
    "    cd.ShowDialog(codes[0])\n",
    "    ex.MainLoop()"
   ]
  },
  {
   "cell_type": "markdown",
   "metadata": {},
   "source": [
    "---\n",
    "\n",
    "dij.py"
   ]
  },
  {
   "cell_type": "code",
   "execution_count": 7,
   "metadata": {
    "collapsed": true
   },
   "outputs": [],
   "source": [
    "import urllib\n",
    "import re"
   ]
  },
  {
   "cell_type": "code",
   "execution_count": 8,
   "metadata": {
    "collapsed": false
   },
   "outputs": [
    {
     "name": "stderr",
     "output_type": "stream",
     "text": [
      "/home/roach/anaconda3/envs/py27/lib/python2.7/site-packages/ipykernel/__main__.py:27: wxPyDeprecationWarning: Call to deprecated item 'GetEffectiveMinSize'. Use `GetEffectiveMinSize` instead.\n"
     ]
    }
   ],
   "source": [
    "class StockFrame(wx.Frame):\n",
    "    def __init__(self, title):\n",
    "        wx.Frame.__init__(self, None, title=title, size=(500,600))\n",
    "\n",
    "        self.CreateStatusBar()\n",
    "\n",
    "        menuBar = wx.MenuBar()\n",
    "\n",
    "        filemenu= wx.Menu()\n",
    "        menuBar.Append(filemenu,\"&File\")\n",
    "        \n",
    "        menuAbout = filemenu.Append(wx.ID_ABOUT, \"&About\",\" Information about this program\")\n",
    "        filemenu.AppendSeparator()\n",
    "\n",
    "        menuQuit = filemenu.Append(wx.ID_EXIT,\"Q&uit\",\" Terminate the program\")\n",
    "        self.Bind(wx.EVT_MENU, self.OnAbout, menuAbout)\n",
    "        self.Bind(wx.EVT_MENU, self.onQuit, menuQuit)\n",
    "        self.SetMenuBar(menuBar)\n",
    "\n",
    "        panel = wx.Panel(self)\n",
    "\n",
    "        codeSizer = wx.BoxSizer(wx.HORIZONTAL)\n",
    "        labelText = wx.StaticText(panel, label=\"Stock Code:\")\n",
    "        codeSizer.Add(labelText, 0, wx.ALIGN_BOTTOM)\n",
    "        codeSizer.Add((10, 10))\n",
    "        addressText = wx.TextCtrl(panel, value='AAPL')\n",
    "        addressText.SetSize(addressText.GetBestFittingSize())\n",
    "        codeSizer.Add(addressText)\n",
    "        #self.addressText.Layout()\n",
    "        #self.control.Show(True)\n",
    "        \n",
    "        self.list = wx.ListCtrl(panel, wx.NewId(), style=wx.LC_REPORT)\n",
    "        self.list.InsertColumn(0,\"Symbol\")\n",
    "        self.list.InsertColumn(1,\"Name\")\n",
    "        self.list.InsertColumn(2,\"Last Trade\")  \n",
    "\n",
    "        pos = self.list.InsertStringItem(0,\"--\")\n",
    "        self.list.SetStringItem(pos,1,\"loading...\")\n",
    "        self.list.SetStringItem(pos,2,\"--\")  \n",
    "        self.Bind(wx.EVT_LIST_ITEM_ACTIVATED, self.OnClick, self.list)\n",
    "        \n",
    "        vsizer = wx.BoxSizer(wx.VERTICAL)\n",
    "        vsizer.Add(codeSizer, 0, wx.ALL, 10)\n",
    "        vsizer.Add(self.list, -1, wx.ALL | wx.EXPAND, 10)\n",
    "        #panel.SetSizer(self.sizer)\n",
    "\n",
    "        hsizer = wx.BoxSizer(wx.HORIZONTAL)\n",
    "        hsizer.Add((10, 10))\n",
    "        buttonQuit = wx.Button(panel, -1, \"Quit\")\n",
    "        self.Bind(wx.EVT_BUTTON, self.onQuit, buttonQuit)\n",
    "        buttonQuit.SetDefault()\n",
    "        hsizer.Add(buttonQuit, 1)\n",
    "\n",
    "        buttonRefresh = wx.Button(panel, -1, \"Refresh\")\n",
    "        self.Bind(wx.EVT_BUTTON, self.onRefresh, buttonRefresh)\n",
    "        hsizer.Add(buttonRefresh, 1)\n",
    "        #self.buttonGroupSizer.Layout()\n",
    "        #self.buttonGroupSizer.Fit(self)\n",
    "        vsizer.Add(hsizer, 0, wx.ALIGN_BOTTOM)\n",
    "        #self.sizer.Layout()\n",
    "        #vsizer.Fit(self)\n",
    "\n",
    "        #self.buttonGroupSizer.Fit(self)\n",
    "        ###self.SetSizer(self.buttonGroupSizer)\n",
    "        panel.SetSizerAndFit(vsizer)        \n",
    "        panel.Layout()        \n",
    "        #self.Show(True)\n",
    "        \n",
    "        '''frameSizer = wx.BoxSizer(wx.VERTICAL)\n",
    "        frameSizer.Add(panel)\n",
    "        self.SetSizerAndFit(frameSizer)\n",
    "        self.Layout()\n",
    "        self.Fit()'''\n",
    "\n",
    "    def setData(self, data):\n",
    "        self.list.ClearAll()\n",
    "        self.list.InsertColumn(0,\"Symbol\")\n",
    "        self.list.InsertColumn(1,\"Name\")\n",
    "        self.list.InsertColumn(2,\"Last Trade\")  \n",
    "        pos = 0\n",
    "        for row in data:\n",
    "            # This one looks neater but cannot replace the \"&amp;\"\n",
    "            #self.list.Append(row)            \n",
    "            pos = self.list.InsertStringItem(pos+1, row[0])\n",
    "            self.list.SetStringItem(pos, 1, row[1].replace(\"&amp;\", \"&\"))\n",
    "            self.list.SetColumnWidth(1, -1)\n",
    "            self.list.SetStringItem(pos, 2, row[2])\n",
    "            if (pos % 2 == 0):\n",
    "                # Get the item at a specific index:\n",
    "                #item = self.list.GetItem(pos)\n",
    "                self.list.SetItemBackgroundColour(pos, (134, 225, 249))\n",
    "                # Set new look and feel back to the list\n",
    "                #self.list.SetItem(item)\n",
    "        self.FitInside()\n",
    "        pass\n",
    "        \n",
    "    def GetAllSelected(self):\n",
    "        selection = []\n",
    "\n",
    "        # start at -1 to get the first selected item\n",
    "        current = -1\n",
    "        while True:\n",
    "            next = self.GetNextSelected(current)\n",
    "            if next == -1:\n",
    "                return selection\n",
    "\n",
    "            selection.append(self.list.GetItemText(next))\n",
    "            current = next\n",
    "\n",
    "    def GetNextSelected(self, current):\n",
    "        return self.list.GetNextItem(current,\n",
    "                                wx.LIST_NEXT_ALL,\n",
    "                                wx.LIST_STATE_SELECTED)\n",
    "\n",
    "    def OnClick(self, event):\n",
    "        codes = self.GetAllSelected()\n",
    "        print \"code in DJI\", codes\n",
    "        ConfigureData(codes)\n",
    "        \n",
    "    def OnAbout(self, event):\n",
    "        dlg = wx.MessageDialog( self, \"A small text editor\", \"About Sample Editor\", wx.OK)\n",
    "        dlg.ShowModal()\n",
    "        dlg.Destroy()\n",
    "\n",
    "    def onQuit(self, event):\n",
    "        self.Close()\n",
    "        self.Destroy()\n",
    "        \n",
    "    def onRefresh(self, event):\n",
    "        pass\n",
    "\n",
    "app = wx.App(False)\n",
    "\n",
    "top = StockFrame(\"Dow Jones Industrial Average (^DJI)\")\n",
    "top.Show(True)\n",
    "\n",
    "str = urllib.urlopen('http://finance.yahoo.com/q/cp?s=%5EDJI+Components').read()\n",
    "#print str\n",
    "m = re.findall(\"<tr><td class=\\\"yfnc_tabledata1\\\"><b><a href=\\\".*?\\\">(.*?)</a></b></td><td class=\\\"yfnc_tabledata1\\\">(.*?)</td>.*?<b>(.*?)</b>.*?</tr>\", str)\n",
    "if m:\n",
    "    #print m\n",
    "    #print\"\\n\"\n",
    "    print len(m)\n",
    "    top.setData(m)\n",
    "else:  \n",
    "    wx.MessageBox('Download failed.', 'Message',  wx.OK | wx.ICON_INFORMATION)\n",
    "\n",
    "app.MainLoop()"
   ]
  },
  {
   "cell_type": "code",
   "execution_count": 9,
   "metadata": {
    "collapsed": true
   },
   "outputs": [],
   "source": [
    "del app"
   ]
  },
  {
   "cell_type": "code",
   "execution_count": null,
   "metadata": {
    "collapsed": true
   },
   "outputs": [],
   "source": [
    "The sound of this animal goes?"
   ]
  }
 ],
 "metadata": {
  "anaconda-cloud": {},
  "kernelspec": {
   "display_name": "Python [conda env:py27]",
   "language": "python",
   "name": "conda-env-py27-py"
  },
  "language_info": {
   "codemirror_mode": {
    "name": "ipython",
    "version": 2
   },
   "file_extension": ".py",
   "mimetype": "text/x-python",
   "name": "python",
   "nbconvert_exporter": "python",
   "pygments_lexer": "ipython2",
   "version": "2.7.12"
  }
 },
 "nbformat": 4,
 "nbformat_minor": 2
}
