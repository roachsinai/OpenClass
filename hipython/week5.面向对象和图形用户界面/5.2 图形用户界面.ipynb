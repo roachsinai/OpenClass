{
 "cells": [
  {
   "cell_type": "markdown",
   "metadata": {},
   "source": [
    "## 1. GUI的基本框架"
   ]
  },
  {
   "cell_type": "code",
   "execution_count": 7,
   "metadata": {
    "collapsed": false
   },
   "outputs": [],
   "source": [
    "import wx\n",
    "app = wx.App()\n",
    "frame = wx.Frame(None,title='Hello world!')\n",
    "frame.Show(True)\n",
    "app.MainLoop()"
   ]
  },
  {
   "cell_type": "code",
   "execution_count": 8,
   "metadata": {
    "collapsed": true
   },
   "outputs": [],
   "source": [
    "del app"
   ]
  },
  {
   "cell_type": "code",
   "execution_count": 9,
   "metadata": {
    "collapsed": false
   },
   "outputs": [],
   "source": [
    "class MyApp(wx.App):\n",
    "    def OnInit(self):\n",
    "        frame = wx.Frame(None, title='Hello, World!')\n",
    "        frame.Show()\n",
    "        return True\n",
    "    \n",
    "if __name__ == '__main__':\n",
    "    app = MyApp()\n",
    "    app.MainLoop()"
   ]
  },
  {
   "cell_type": "code",
   "execution_count": 10,
   "metadata": {
    "collapsed": true
   },
   "outputs": [],
   "source": [
    "del app"
   ]
  },
  {
   "cell_type": "markdown",
   "metadata": {},
   "source": [
    "**组件**\n",
    "\n",
    "+ 组件容器（Containers）——用于容纳其他组件：wx.Panel\n",
    "+ 动态组件（Dynamic Widgets）——可以被用户编辑：wx.Button wx.TextCtrl wx.ListBox\n",
    "+ 静态组件（Static Widgets）——显示信息用，不能被用户编辑：wx.StaticBitmap wx.StaticText wx.StaticLine\n",
    "+ 其他组件 wx.ToolBar wx.MenuBar wx.StatusBar"
   ]
  },
  {
   "cell_type": "code",
   "execution_count": 11,
   "metadata": {
    "collapsed": false,
    "scrolled": true
   },
   "outputs": [],
   "source": [
    "import wx\n",
    "\n",
    "class Frame1(wx.Frame):\n",
    "    def __init__(self,superior):\n",
    "        wx.Frame.__init__(self,parent=superior,title='Example',pos=(100,200),size=(200,100))\n",
    "        panel = wx.Panel(self)\n",
    "        text1 = wx.TextCtrl(panel,value='Hello, World!',size=(200,100))\n",
    "        \n",
    "#if __name__ == '__main__':\n",
    "app = wx.App()\n",
    "frame = Frame1(None)\n",
    "frame.Show(True)\n",
    "app.MainLoop()"
   ]
  },
  {
   "cell_type": "code",
   "execution_count": 15,
   "metadata": {
    "collapsed": true
   },
   "outputs": [],
   "source": [
    "del app"
   ]
  },
  {
   "cell_type": "markdown",
   "metadata": {},
   "source": [
    "#### 事件处理机制（Event Handling）\n",
    "\n",
    "事件：\n",
    "\n",
    "+ 移动鼠标、按下鼠标左键、单击按钮等\n",
    "+ 也可以用户操作触发或程序中创建对象\n",
    "\n",
    "**wxPython程序将特定类型的事件关联到特定的代码（方法），当该类型的事件产生时，相关代码将响应事件执行**。\n",
    "\n",
    "- 鼠标移动时，OnMove()被调用"
   ]
  },
  {
   "cell_type": "code",
   "execution_count": 7,
   "metadata": {
    "collapsed": false
   },
   "outputs": [],
   "source": [
    "import wx\n",
    "\n",
    "class Frame2(wx.Frame):\n",
    "    def __init__(self,superior):\n",
    "        wx.Frame.__init__(self,parent=superior,title='Mouse Event',pos=(100,200),size=(200,200))\n",
    "        self.panel = wx.Panel(self)\n",
    "        #text1 = wx.TextCtrl(panel,value='Hello, World!',size=(200,100))\n",
    "        self.panel.Bind(wx.EVT_LEFT_UP,self.OnClick)\n",
    "    def OnClick(self,event):\n",
    "        posm = event.GetPosition()\n",
    "        wx.StaticText(parent=self.panel,label='Hello, World!',pos=(posm.x, posm.y))\n",
    "        \n",
    "#if __name__ == '__main__':\n",
    "app = wx.App()\n",
    "frame = Frame2(None)\n",
    "frame.Show(True)\n",
    "app.MainLoop()"
   ]
  },
  {
   "cell_type": "code",
   "execution_count": 10,
   "metadata": {
    "collapsed": true
   },
   "outputs": [],
   "source": [
    "del app"
   ]
  },
  {
   "cell_type": "markdown",
   "metadata": {},
   "source": [
    "## 2. GUI常用组件"
   ]
  },
  {
   "cell_type": "markdown",
   "metadata": {},
   "source": [
    "#### 按钮\n",
    "\n",
    "功能：接受用户的点击事件，触发响应的操作\n",
    "\n",
    "- wx.Button 文本按钮\n",
    "- wx.BitmapButton 位图按钮\n",
    "- wx.ToggleButton 开关按钮\n",
    "\n",
    "绑定处理按钮点击的事件"
   ]
  },
  {
   "cell_type": "markdown",
   "metadata": {},
   "source": [
    "#### 菜单\n",
    "\n",
    "- 菜单栏\n",
    "- 菜单\n",
    "- 菜单项命令\n",
    "\n",
    "wxPython用于创建菜单的类：\n",
    "\n",
    "- wx.MenuBar\n",
    "- wx.Menu\n",
    "- wx.MenuItem"
   ]
  },
  {
   "cell_type": "markdown",
   "metadata": {},
   "source": [
    "#### 静态文本框（标签）\n",
    "\n",
    "窗体上下文的说明\n",
    "\n",
    "- wx.StaticText\n",
    "\n",
    "#### 文本框\n",
    "\n",
    "- wx.TextCtrl\n",
    "\n",
    "![](img/textt.png)\n",
    "\n",
    "#### 列表\n",
    "\n",
    "![](img/list.png)"
   ]
  },
  {
   "cell_type": "markdown",
   "metadata": {},
   "source": [
    "## 3. 布局管理\n",
    "\n",
    "不要使用绝对位置"
   ]
  },
  {
   "cell_type": "markdown",
   "metadata": {},
   "source": [
    "![](img/layout1.png)"
   ]
  },
  {
   "cell_type": "markdown",
   "metadata": {},
   "source": [
    "#### sizer\n",
    "\n",
    "![](img/sizer.png)"
   ]
  },
  {
   "cell_type": "code",
   "execution_count": 1,
   "metadata": {
    "collapsed": false
   },
   "outputs": [],
   "source": [
    "# Filename: helloworldbtn.py\n",
    "import wx \n",
    "class Frame1(wx.Frame):\n",
    "    def __init__(self,superior):\n",
    "        wx.Frame.__init__(self, parent = superior, title = \"Hello World in wxPython\")\n",
    "        panel = wx.Panel(self)\n",
    "        sizer = wx.BoxSizer(wx.VERTICAL)\n",
    "        self.text1= wx.TextCtrl(panel, value = \"Hello, World!\", size = (200,180), style = wx.TE_MULTILINE)\n",
    "        sizer.Add(self.text1, 0, wx.ALIGN_TOP | wx.EXPAND)\n",
    "        button = wx.Button(panel, label = \"Click Me\")\n",
    "        sizer.Add(button)\n",
    "        panel.SetSizerAndFit(sizer)        \n",
    "        panel.Layout()\n",
    "        self.Bind(wx.EVT_BUTTON,self.OnClick,button)\n",
    "    def OnClick(self, text):\n",
    "        self.text1.AppendText(\"\\nHello, World!\")\n",
    "if __name__ == '__main__': \n",
    "    app =wx.App()\n",
    "    frame = Frame1(None)\n",
    "    frame.Show(True)\n",
    "app.MainLoop()"
   ]
  },
  {
   "cell_type": "code",
   "execution_count": 2,
   "metadata": {
    "collapsed": true
   },
   "outputs": [],
   "source": [
    "del app"
   ]
  },
  {
   "cell_type": "markdown",
   "metadata": {},
   "source": [
    "## 其他GUI库\n",
    "\n",
    "- Tkinter 高效\n",
    "- PyQT 庞大\n",
    "- wxPython 上诉两者折中"
   ]
  },
  {
   "cell_type": "markdown",
   "metadata": {},
   "source": [
    "#### PyQT\n",
    "\n",
    "同时使用Python和QT两种内存管理方法，注意内存泄漏问题\n",
    "\n",
    "![](img/pyqt1.png)\n",
    "\n",
    "---\n",
    "\n",
    "![](img/pyqt2.png)"
   ]
  },
  {
   "cell_type": "markdown",
   "metadata": {},
   "source": [
    "#### Tkinter\n",
    "\n",
    "开发IDLE\n",
    "\n",
    "![](img/tkinter.png)\n",
    "\n",
    "---\n",
    "\n",
    "![](img/tkinter2.png)\n",
    "\n",
    "---\n",
    "\n",
    "![](img/tkinter3.png)\n",
    "\n",
    "#### PyGTK\n",
    "\n",
    "![](img/pygtk.png)\n",
    "\n",
    "---\n",
    "\n",
    "![](img/pygtk2.png)\n",
    "\n",
    "Windows平台下PyGTK表现不太好"
   ]
  },
  {
   "cell_type": "markdown",
   "metadata": {},
   "source": [
    "## 5. 综合应用"
   ]
  },
  {
   "cell_type": "markdown",
   "metadata": {
    "collapsed": true
   },
   "source": [
    "## Quiz"
   ]
  },
  {
   "cell_type": "code",
   "execution_count": 15,
   "metadata": {
    "collapsed": false
   },
   "outputs": [
    {
     "ename": "PyNoAppError",
     "evalue": "The wx.App object must be created first!",
     "output_type": "error",
     "traceback": [
      "\u001b[0;31m---------------------------------------------------------------------------\u001b[0m",
      "\u001b[0;31mPyNoAppError\u001b[0m                              Traceback (most recent call last)",
      "\u001b[0;32m<ipython-input-15-948299cd1710>\u001b[0m in \u001b[0;36m<module>\u001b[0;34m()\u001b[0m\n\u001b[1;32m     12\u001b[0m \u001b[0;32mif\u001b[0m \u001b[0m__name__\u001b[0m \u001b[0;34m==\u001b[0m \u001b[0;34m'__main__'\u001b[0m\u001b[0;34m:\u001b[0m\u001b[0;34m\u001b[0m\u001b[0m\n\u001b[1;32m     13\u001b[0m     \u001b[0mapp\u001b[0m \u001b[0;34m=\u001b[0m \u001b[0mwx\u001b[0m\u001b[0;34m.\u001b[0m\u001b[0mApp\u001b[0m\u001b[0;34m(\u001b[0m\u001b[0;34m)\u001b[0m\u001b[0;34m\u001b[0m\u001b[0m\n\u001b[0;32m---> 14\u001b[0;31m     \u001b[0mframe\u001b[0m \u001b[0;34m=\u001b[0m \u001b[0mMyFrame\u001b[0m\u001b[0;34m(\u001b[0m\u001b[0mNone\u001b[0m\u001b[0;34m)\u001b[0m\u001b[0;34m\u001b[0m\u001b[0m\n\u001b[0m\u001b[1;32m     15\u001b[0m     \u001b[0mframe\u001b[0m\u001b[0;34m.\u001b[0m\u001b[0mShow\u001b[0m\u001b[0;34m(\u001b[0m\u001b[0mTrue\u001b[0m\u001b[0;34m)\u001b[0m\u001b[0;34m\u001b[0m\u001b[0m\n\u001b[1;32m     16\u001b[0m     \u001b[0mapp\u001b[0m\u001b[0;34m.\u001b[0m\u001b[0mMainLoop\u001b[0m\u001b[0;34m(\u001b[0m\u001b[0;34m)\u001b[0m\u001b[0;34m\u001b[0m\u001b[0m\n",
      "\u001b[0;32m<ipython-input-15-948299cd1710>\u001b[0m in \u001b[0;36m__init__\u001b[0;34m(self, parent)\u001b[0m\n\u001b[1;32m      3\u001b[0m \u001b[0;32mclass\u001b[0m \u001b[0mMyFrame\u001b[0m\u001b[0;34m(\u001b[0m\u001b[0mwx\u001b[0m\u001b[0;34m.\u001b[0m\u001b[0mFrame\u001b[0m\u001b[0;34m)\u001b[0m\u001b[0;34m:\u001b[0m\u001b[0;34m\u001b[0m\u001b[0m\n\u001b[1;32m      4\u001b[0m     \u001b[0;32mdef\u001b[0m \u001b[0m__init__\u001b[0m\u001b[0;34m(\u001b[0m\u001b[0mself\u001b[0m\u001b[0;34m,\u001b[0m \u001b[0mparent\u001b[0m\u001b[0;34m)\u001b[0m\u001b[0;34m:\u001b[0m\u001b[0;34m\u001b[0m\u001b[0m\n\u001b[0;32m----> 5\u001b[0;31m         \u001b[0mwx\u001b[0m\u001b[0;34m.\u001b[0m\u001b[0mFrame\u001b[0m\u001b[0;34m.\u001b[0m\u001b[0m__init__\u001b[0m\u001b[0;34m(\u001b[0m\u001b[0mself\u001b[0m\u001b[0;34m,\u001b[0m\u001b[0mNone\u001b[0m\u001b[0;34m,\u001b[0m\u001b[0mtitle\u001b[0m\u001b[0;34m=\u001b[0m\u001b[0;34m'Hello Python'\u001b[0m\u001b[0;34m)\u001b[0m\u001b[0;34m\u001b[0m\u001b[0m\n\u001b[0m\u001b[1;32m      6\u001b[0m         \u001b[0mself\u001b[0m\u001b[0;34m.\u001b[0m\u001b[0mpanel\u001b[0m \u001b[0;34m=\u001b[0m \u001b[0mwx\u001b[0m\u001b[0;34m.\u001b[0m\u001b[0mPanel\u001b[0m\u001b[0;34m(\u001b[0m\u001b[0mself\u001b[0m\u001b[0;34m)\u001b[0m\u001b[0;34m\u001b[0m\u001b[0m\n\u001b[1;32m      7\u001b[0m         \u001b[0mself\u001b[0m\u001b[0;34m.\u001b[0m\u001b[0mpanel\u001b[0m\u001b[0;34m.\u001b[0m\u001b[0mBind\u001b[0m\u001b[0;34m(\u001b[0m\u001b[0mwx\u001b[0m\u001b[0;34m.\u001b[0m\u001b[0mEVT_LEFT_UP\u001b[0m\u001b[0;34m,\u001b[0m \u001b[0mself\u001b[0m\u001b[0;34m.\u001b[0m\u001b[0mOnClick\u001b[0m\u001b[0;34m)\u001b[0m\u001b[0;34m\u001b[0m\u001b[0m\n",
      "\u001b[0;32m/home/roach/anaconda3/envs/py27/lib/python2.7/site-packages/wx-3.0-gtk2/wx/_windows.pyc\u001b[0m in \u001b[0;36m__init__\u001b[0;34m(self, *args, **kwargs)\u001b[0m\n\u001b[1;32m    578\u001b[0m             long style=DEFAULT_FRAME_STYLE, String name=FrameNameStr) -> Frame\n\u001b[1;32m    579\u001b[0m         \"\"\"\n\u001b[0;32m--> 580\u001b[0;31m         \u001b[0m_windows_\u001b[0m\u001b[0;34m.\u001b[0m\u001b[0mFrame_swiginit\u001b[0m\u001b[0;34m(\u001b[0m\u001b[0mself\u001b[0m\u001b[0;34m,\u001b[0m\u001b[0m_windows_\u001b[0m\u001b[0;34m.\u001b[0m\u001b[0mnew_Frame\u001b[0m\u001b[0;34m(\u001b[0m\u001b[0;34m*\u001b[0m\u001b[0margs\u001b[0m\u001b[0;34m,\u001b[0m \u001b[0;34m**\u001b[0m\u001b[0mkwargs\u001b[0m\u001b[0;34m)\u001b[0m\u001b[0;34m)\u001b[0m\u001b[0;34m\u001b[0m\u001b[0m\n\u001b[0m\u001b[1;32m    581\u001b[0m         \u001b[0mself\u001b[0m\u001b[0;34m.\u001b[0m\u001b[0m_setOORInfo\u001b[0m\u001b[0;34m(\u001b[0m\u001b[0mself\u001b[0m\u001b[0;34m)\u001b[0m\u001b[0;34m\u001b[0m\u001b[0m\n\u001b[1;32m    582\u001b[0m \u001b[0;34m\u001b[0m\u001b[0m\n",
      "\u001b[0;31mPyNoAppError\u001b[0m: The wx.App object must be created first!"
     ]
    }
   ],
   "source": [
    "import wx\n",
    "\n",
    "class MyFrame(wx.Frame):\n",
    "    def __init__(self, parent):\n",
    "        wx.Frame.__init__(self,None,title='Hello Python')\n",
    "        self.panel = wx.Panel(self)\n",
    "        self.panel.Bind(wx.EVT_LEFT_UP, self.OnClick)\n",
    "    def OnClick(self,event):\n",
    "        posm = event.GetPosition()\n",
    "        wx.Button(self.panel,label='Hi~~~',pos=(posm.x,posm.y))\n",
    "\n",
    "if __name__ == '__main__':\n",
    "    app = wx.App()\n",
    "    frame = MyFrame(None)\n",
    "    frame.Show(True)\n",
    "    app.MainLoop()"
   ]
  },
  {
   "cell_type": "code",
   "execution_count": 16,
   "metadata": {
    "collapsed": true
   },
   "outputs": [],
   "source": [
    "del app"
   ]
  },
  {
   "cell_type": "code",
   "execution_count": null,
   "metadata": {
    "collapsed": true
   },
   "outputs": [],
   "source": []
  }
 ],
 "metadata": {
  "anaconda-cloud": {},
  "kernelspec": {
   "display_name": "Python [conda env:py27]",
   "language": "python",
   "name": "conda-env-py27-py"
  },
  "language_info": {
   "codemirror_mode": {
    "name": "ipython",
    "version": 2
   },
   "file_extension": ".py",
   "mimetype": "text/x-python",
   "name": "python",
   "nbconvert_exporter": "python",
   "pygments_lexer": "ipython2",
   "version": "2.7.12"
  }
 },
 "nbformat": 4,
 "nbformat_minor": 2
}
