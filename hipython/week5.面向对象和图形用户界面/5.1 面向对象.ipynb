{
 "cells": [
  {
   "cell_type": "markdown",
   "metadata": {},
   "source": [
    "## 1. GUI与面向对象"
   ]
  },
  {
   "cell_type": "code",
   "execution_count": 3,
   "metadata": {
    "collapsed": false
   },
   "outputs": [
    {
     "name": "stdout",
     "output_type": "stream",
     "text": [
      "input the numbers:\n",
      "1\n",
      "2\n",
      ".\n"
     ]
    },
    {
     "data": {
      "text/plain": [
       "3"
      ]
     },
     "execution_count": 3,
     "metadata": {},
     "output_type": "execute_result"
    }
   ],
   "source": [
    "def func():\n",
    "    '''add function'''\n",
    "    list1 = []\n",
    "    print('input the numbers:')\n",
    "    while 1:\n",
    "        a = input()\n",
    "        if a == '.':\n",
    "            break\n",
    "        list1.append(eval(a))\n",
    "    return sum(list1)\n",
    "\n",
    "func()      "
   ]
  },
  {
   "cell_type": "markdown",
   "metadata": {},
   "source": [
    "---\n",
    "\n",
    "## 2. 抽象\n",
    "\n",
    "#### 类\n",
    "\n",
    "+ 类描述了对象的特征（数据和操作）\n",
    "\n",
    "#### 对象\n",
    "\n",
    "+ 由数据及能对其实施的操作所构成的封装体\n",
    "\n",
    "---\n",
    "\n",
    "**Button**\n",
    "\n",
    "为什么被抽象为一个类：\n",
    "\n",
    "+ 相同点\n",
    "    - 有名字\n",
    "    - 有矩形框\n",
    "    - 鼠标点击会触发相应功能\n",
    "+ 不同点\n",
    "    - 触发的功能不一样"
   ]
  },
  {
   "cell_type": "code",
   "execution_count": 4,
   "metadata": {
    "collapsed": false
   },
   "outputs": [
    {
     "name": "stdout",
     "output_type": "stream",
     "text": [
      "Hi, I am called Sara.\n"
     ]
    }
   ],
   "source": [
    "class Dog(object):\n",
    "    'define Dog class'\n",
    "    def __init__(self, name):\n",
    "        self.name = name\n",
    "    def greet(self):\n",
    "        print('Hi, I am called %s.' % self.name)\n",
    "\n",
    "if __name__ == '__main__':\n",
    "    dog = Dog('Sara')\n",
    "    dog.greet()"
   ]
  },
  {
   "cell_type": "code",
   "execution_count": 5,
   "metadata": {
    "collapsed": true
   },
   "outputs": [],
   "source": [
    "class roster(object):\n",
    "    \"students and teacher class\"\n",
    "    teacher = \"\"\n",
    "    students = [ ]\n",
    "    def __init__(self,tn='mayun'):\n",
    "        self.teacher=tn\n",
    "    def add(self, sn):\n",
    "        self.students.append(sn)\n",
    "    def remove(self, sn):\n",
    "        self.students.remove(sn)\n",
    "    def print_all(self):\n",
    "        print(\"Teacher:\", self.teacher)\n",
    "        print(\"Students:\", self.students)"
   ]
  },
  {
   "cell_type": "markdown",
   "metadata": {},
   "source": [
    "## 3. 继承"
   ]
  },
  {
   "cell_type": "code",
   "execution_count": null,
   "metadata": {
    "collapsed": true
   },
   "outputs": [],
   "source": []
  }
 ],
 "metadata": {
  "anaconda-cloud": {},
  "kernelspec": {
   "display_name": "Python [conda root]",
   "language": "python",
   "name": "conda-root-py"
  },
  "language_info": {
   "codemirror_mode": {
    "name": "ipython",
    "version": 3
   },
   "file_extension": ".py",
   "mimetype": "text/x-python",
   "name": "python",
   "nbconvert_exporter": "python",
   "pygments_lexer": "ipython3",
   "version": "3.5.2"
  }
 },
 "nbformat": 4,
 "nbformat_minor": 2
}
